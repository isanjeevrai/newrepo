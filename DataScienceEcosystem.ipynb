{
  "nbformat": 4,
  "nbformat_minor": 0,
  "metadata": {
    "colab": {
      "provenance": [],
      "authorship_tag": "ABX9TyMyn4/yZFDrdU/VVcXc92iu",
      "include_colab_link": true
    },
    "kernelspec": {
      "name": "python3",
      "display_name": "Python 3"
    },
    "language_info": {
      "name": "python"
    }
  },
  "cells": [
    {
      "cell_type": "markdown",
      "metadata": {
        "id": "view-in-github",
        "colab_type": "text"
      },
      "source": [
        "<a href=\"https://colab.research.google.com/github/isanjeevrai/newrepo/blob/main/DataScienceEcosystem.ipynb\" target=\"_parent\"><img src=\"https://colab.research.google.com/assets/colab-badge.svg\" alt=\"Open In Colab\"/></a>"
      ]
    },
    {
      "cell_type": "markdown",
      "source": [
        "# Data Science Tools and Ecosystem\n",
        "In this notebook, Data Science Tools and Ecosystem are summarized.\n",
        "\n",
        "Some of the popular languages that Data Scientists use are:\n",
        "1. Python\n",
        "2. R\n",
        "3. SQL\n",
        "4. JAVA\n"
      ],
      "metadata": {
        "id": "ceLmuyk47lFQ"
      }
    },
    {
      "cell_type": "markdown",
      "source": [
        "Some of the commonly used libraries used by Data Scientists include:\n",
        "1. Pandas\n",
        "2. TensorFlow\n",
        "3. Ploty\n",
        "4. NumPy"
      ],
      "metadata": {
        "id": "RBldXErn8qho"
      }
    },
    {
      "cell_type": "markdown",
      "source": [
        "|Data Science Tools|\n",
        "|--------|\n",
        "|ApacheSpark|\n",
        "|TensorFlow|\n",
        "|R|\n",
        "|Hadoop|"
      ],
      "metadata": {
        "id": "0xoySzqE-B0D"
      }
    },
    {
      "cell_type": "markdown",
      "source": [
        "### Below are a few examples of evaluating arithmetic expressions in Python."
      ],
      "metadata": {
        "id": "_Olg-1LM-q5E"
      }
    },
    {
      "cell_type": "code",
      "source": [
        "# This a simple arithmetic expression to mutiply then add integers\n",
        "\n",
        "(3*4)+5"
      ],
      "metadata": {
        "colab": {
          "base_uri": "https://localhost:8080/"
        },
        "id": "KYrzLL2Q-ppD",
        "outputId": "b642cfa7-95d1-4ed7-f642-ad475235ab84"
      },
      "execution_count": 4,
      "outputs": [
        {
          "output_type": "execute_result",
          "data": {
            "text/plain": [
              "17"
            ]
          },
          "metadata": {},
          "execution_count": 4
        }
      ]
    },
    {
      "cell_type": "code",
      "source": [
        "# This will convert 200 minutes to hours by diving by 60\n",
        "\n",
        "print(hours)\n",
        "minutes = 200\n",
        "hours = minutes / 60\n"
      ],
      "metadata": {
        "colab": {
          "base_uri": "https://localhost:8080/"
        },
        "id": "EACpvOUd_EL2",
        "outputId": "938b60db-ec9b-48cb-cab3-13ed26bb699b"
      },
      "execution_count": 16,
      "outputs": [
        {
          "output_type": "stream",
          "name": "stdout",
          "text": [
            "3.3333333333333335\n"
          ]
        }
      ]
    },
    {
      "cell_type": "markdown",
      "source": [
        "**Objectives:**\n",
        "\n",
        "List popular languages for Data Science:\n",
        "+ Python\n",
        "+ R\n",
        "+ SQL\n",
        "+ Java"
      ],
      "metadata": {
        "id": "kXIfot4IBfv_"
      }
    },
    {
      "cell_type": "markdown",
      "source": [
        "## Author\n",
        "Sanjeev Singh"
      ],
      "metadata": {
        "id": "oFvr1SB5B_qI"
      }
    }
  ]
}